{
 "cells": [
  {
   "cell_type": "markdown",
   "metadata": {},
   "source": [
    "# Однострочники\n",
    "\n",
    "Решите пять задач из следующего списка. Решение каждой задачи должно состоять из одной строки длиной не больше 80 символов (`import` не входит в ограничение)\n",
    "\n",
    "Примечания:\n",
    "+ Однострочник - это не функция, это просто некоторое выражение, результатом выполнения которого является некоторое значение.\n",
    "+ Некоторые однострочники должны принимать какие-либо входные данные - это некоторые переменные. Имена и типы принимаемых переменных указаны в пояснении к соответствующей задаче.\n",
    "+ Не следует в однострочниках использовать собственные определённые ранее функции и объекты.\n",
    "+ Можно использовать функции и объекты из стандартной библиотеки. Строки `import ... [as ...]` и `from ... import ... [as ...]` не входят в ограничение.\n",
    "+ В коде всего документа не должно быть конфликтующих или ошибочных операторов `import`.\n",
    "+ Можно и нужно использовать *list comprehensions*.\n",
    "+ В строке перед соответствующим однострочником должен быть комментарий: `#expr(n)`, где `n` - номер задачи. А в остальном этот документ можно модифицировать произвольным образом.\n",
    "+ Если вы хотите пропустить какую-либо задачу - оставьте на месте неё `pass`.\n",
    "+ Это задание автоматически тестируемое. Тесты можно запустить выполнив `python3 test.py` в директории с этим документом, либо запустив код в конце этого документа (перед этим нужно сохранить документ). "
   ]
  },
  {
   "cell_type": "markdown",
   "metadata": {},
   "source": [
    "## Пример\n",
    "\n",
    "Пример однострочника, подсчитывающего в списке `a` все числа больше `n`:"
   ]
  },
  {
   "cell_type": "markdown",
   "metadata": {},
   "source": [
    "Задание входных переменных. Не требуется для тестирования, разве что для самопроверки:"
   ]
  },
  {
   "cell_type": "code",
   "execution_count": null,
   "metadata": {},
   "outputs": [],
   "source": [
    "a = [5, 2, 7, 10, -1, -3, 0, 1, 0, -9]\n",
    "n = 1"
   ]
  },
  {
   "cell_type": "markdown",
   "metadata": {},
   "source": [
    "Непосредственно сам однострочник (только этот код необходим для тестирования):"
   ]
  },
  {
   "cell_type": "code",
   "execution_count": null,
   "metadata": {},
   "outputs": [],
   "source": [
    "#expr(0)\n",
    "len([x for x in a if x > n])"
   ]
  },
  {
   "cell_type": "markdown",
   "metadata": {},
   "source": [
    "Результат выполнения предыдущей ячейки содержится в переменной `_` (нижнее подчёркивание):"
   ]
  },
  {
   "cell_type": "code",
   "execution_count": null,
   "metadata": {},
   "outputs": [],
   "source": [
    "print(\"list {} contains {} numbers larger than {}\".format(a, _, n))"
   ]
  },
  {
   "cell_type": "markdown",
   "metadata": {},
   "source": [
    "## Задачи"
   ]
  },
  {
   "cell_type": "markdown",
   "metadata": {},
   "source": [
    "### 1. Сложить все числа от $1$ до $2^{25}$\n",
    "\n",
    "+ Результатом выполнения должно быть число типа `int`."
   ]
  },
  {
   "cell_type": "code",
   "execution_count": 18,
   "metadata": {},
   "outputs": [
    {
     "data": {
      "text/plain": [
       "562949970198528"
      ]
     },
     "execution_count": 18,
     "metadata": {},
     "output_type": "execute_result"
    }
   ],
   "source": [
    "#expr(1)\n",
    "sum([i+1 for i in range(pow(2, 25))])"
   ]
  },
  {
   "cell_type": "markdown",
   "metadata": {},
   "source": [
    "### 2. Вычислить факториал $1000$\n",
    "\n",
    "+ Результатом выполнения должно быть число типа `int`."
   ]
  },
  {
   "cell_type": "code",
   "execution_count": null,
   "metadata": {},
   "outputs": [],
   "source": [
    "import math\n",
    "#expr(2)\n",
    "int(math.factorial(1000))"
   ]
  },
  {
   "cell_type": "markdown",
   "metadata": {},
   "source": [
    "### 3. Удвоить все нечётные числа в списке\n",
    "Чётные числа остаются без изменений.\n",
    "\n",
    "+ Принимает переменную `a` типа `list` содержащий числа типа `int`. *Этот список не нужно модифицировать.*\n",
    "+ Результат выполнения - новый список, модифицированный указанным образом."
   ]
  },
  {
   "cell_type": "code",
   "execution_count": 3,
   "metadata": {},
   "outputs": [
    {
     "data": {
      "text/plain": [
       "[2, 2, 6, 4, 10, 6, 14, 8, 18, 10]"
      ]
     },
     "execution_count": 3,
     "metadata": {},
     "output_type": "execute_result"
    }
   ],
   "source": [
    "#expr(3)\n",
    "[2*x if x%2==1 else x for x in a]"
   ]
  },
  {
   "cell_type": "markdown",
   "metadata": {},
   "source": [
    "### 4. Найти элементы списка, отсутствующие в другом\n",
    "\n",
    "+ Принимает переменные `a` и `b` типа `list`.\n",
    "+ Возможные элементы списков - целые числа, строки либо кортежи данных объектов.\n",
    "+ Результат выполнения - список, содержащий в единственном экземпляре элементы из `a`, которых нет в `b`."
   ]
  },
  {
   "cell_type": "code",
   "execution_count": null,
   "metadata": {},
   "outputs": [],
   "source": [
    "#expr(4)\n",
    "[i for i in a if i not in b]"
   ]
  },
  {
   "cell_type": "markdown",
   "metadata": {},
   "source": [
    "### 5. Вывести названия всех клеточек поля для игры в морской бой\n",
    "\n",
    "+ Клетки для игры в морской бой имеют следующую нумерацию:\n",
    "\n",
    "|      | **A**| **B**| **C**| **D**| **E**| **F**| **G**| **H**| **I**| **J**|\n",
    "|------| -----| -----| -----| -----| -----| -----| -----| -----| -----| -----|\n",
    "|**1** |  A1  |  B1  |  C1  |  D1  |  E1  |  F1  |  G1  |  H1  |  I1  |  J1  |\n",
    "|**2** |  A2  |  B2  |  C2  |  D2  |  E2  |  F2  |  G2  |  H2  |  I2  |  J2  |\n",
    "|**3** |  A3  |  B3  |  C3  |  D3  |  E3  |  F3  |  G3  |  H3  |  I3  |  J3  |\n",
    "|**4** |  A4  |  B4  |  C4  |  D4  |  E4  |  F4  |  G4  |  H4  |  I4  |  J4  |\n",
    "|**5** |  A5  |  B5  |  C5  |  D5  |  E5  |  F5  |  G5  |  H5  |  I5  |  J5  |\n",
    "|**6** |  A6  |  B6  |  C6  |  D6  |  E6  |  F6  |  G6  |  H6  |  I6  |  J6  |\n",
    "|**7** |  A7  |  B7  |  C7  |  D7  |  E7  |  F7  |  G7  |  H7  |  I7  |  J7  |\n",
    "|**8** |  A8  |  B8  |  C8  |  D8  |  E8  |  F8  |  G8  |  H8  |  I8  |  J8  |\n",
    "|**9** |  A9  |  B9  |  C9  |  D9  |  E9  |  F9  |  G9  |  H9  |  I9  |  J9  |\n",
    "|**10**| A10  | B10  | C10  | D10  | E10  | F10  | G10  | H10  | I10  | J10  |\n",
    "\n",
    "+ Результат выполнения - список, содержащий списки соответствующих строк:\n",
    "```python\n",
    "[\n",
    "    [\"A1\", \"B1\", ..., \"J1\"],\n",
    "    [\"A2\", \"B2\", ..., \"J2\"],\n",
    "    ...,\n",
    "    [\"A10\", \"B10\", ..., \"J10\"]\n",
    "]\n",
    "```"
   ]
  },
  {
   "cell_type": "code",
   "execution_count": 13,
   "metadata": {},
   "outputs": [
    {
     "data": {
      "text/plain": [
       "[['A1', 'B1', 'C1', 'D1', 'E1', 'F1', 'G1', 'H1', 'I1', 'J1'],\n",
       " ['A2', 'B2', 'C2', 'D2', 'E2', 'F2', 'G2', 'H2', 'I2', 'J2'],\n",
       " ['A3', 'B3', 'C3', 'D3', 'E3', 'F3', 'G3', 'H3', 'I3', 'J3'],\n",
       " ['A4', 'B4', 'C4', 'D4', 'E4', 'F4', 'G4', 'H4', 'I4', 'J4'],\n",
       " ['A5', 'B5', 'C5', 'D5', 'E5', 'F5', 'G5', 'H5', 'I5', 'J5'],\n",
       " ['A6', 'B6', 'C6', 'D6', 'E6', 'F6', 'G6', 'H6', 'I6', 'J6'],\n",
       " ['A7', 'B7', 'C7', 'D7', 'E7', 'F7', 'G7', 'H7', 'I7', 'J7'],\n",
       " ['A8', 'B8', 'C8', 'D8', 'E8', 'F8', 'G8', 'H8', 'I8', 'J8'],\n",
       " ['A9', 'B9', 'C9', 'D9', 'E9', 'F9', 'G9', 'H9', 'I9', 'J9'],\n",
       " ['A10', 'B10', 'C10', 'D10', 'E10', 'F10', 'G10', 'H10', 'I10', 'J10']]"
      ]
     },
     "execution_count": 13,
     "metadata": {},
     "output_type": "execute_result"
    }
   ],
   "source": [
    "#expr(5)\n",
    "[[''.join(map(str,[chr(c+65),i+1])) for c in range(10)] for i in range(10)]"
   ]
  },
  {
   "cell_type": "markdown",
   "metadata": {},
   "source": [
    "### 6. Найти количество чётных чисел от $1$ до $10^6$, которые начинаются на $793$ и не кратны $7$\n",
    "\n",
    "Результат выполнения - целое число `int`."
   ]
  },
  {
   "cell_type": "code",
   "execution_count": null,
   "metadata": {},
   "outputs": [],
   "source": [
    "#expr(6)\n",
    "pass"
   ]
  },
  {
   "cell_type": "markdown",
   "metadata": {},
   "source": [
    "### 7. Считать строчку с клавиатуры и развернуть\n",
    "\n",
    "+ Строчка с клавиатуры - имеется в виду то, что возвращает функция `input()`.\n",
    "+ Развернуть - сделать так, чтобы символы в строке шли в обратном порядке (`\"hello\" -> \"olleh\"`)\n",
    "+ Результат выполнения - строка."
   ]
  },
  {
   "cell_type": "code",
   "execution_count": null,
   "metadata": {},
   "outputs": [],
   "source": [
    "#expr(7)\n",
    "pass"
   ]
  },
  {
   "cell_type": "markdown",
   "metadata": {},
   "source": [
    "### 8. Подсчитать количество букв `z` в файле\n",
    "\n",
    "+ Входные данные: `p` - строка, содержащая имя файла.\n",
    "+ Нужно учитывать букву `z` как в верхнем, так и в нижнем регистре.\n",
    "+ Результат выполнения - целое число `int`."
   ]
  },
  {
   "cell_type": "code",
   "execution_count": null,
   "metadata": {},
   "outputs": [],
   "source": [
    "#expr(8)\n",
    "pass"
   ]
  },
  {
   "cell_type": "markdown",
   "metadata": {},
   "source": [
    "### 9. Вычислить константу $\\pi$ с точностью $20$ знаков\n",
    "\n",
    "Возвращаемое значение - строка, содержащая десятичную запись полученного приближения числа $\\pi$."
   ]
  },
  {
   "cell_type": "code",
   "execution_count": null,
   "metadata": {},
   "outputs": [],
   "source": [
    "#expr(9)\n",
    "pass"
   ]
  },
  {
   "cell_type": "markdown",
   "metadata": {},
   "source": [
    "## Тестирование\n",
    "\n",
    "Запустите следующую ячейку, чтобы выполнить тестирование своих решений. Как минимум 5 задач должны проходить тесты. Если вы видите результат `True`, значит тестирование прошло успешно."
   ]
  },
  {
   "cell_type": "code",
   "execution_count": 20,
   "metadata": {},
   "outputs": [
    {
     "name": "stdout",
     "output_type": "stream",
     "text": [
      "found imports:\n",
      "import math\n",
      "\n",
      "[1]:\n",
      "expr: sum([i+1 for i in range(pow(2, 25))])\n",
      "length: 37\n",
      "[OK] test passed\n",
      "\n",
      "[2]:\n",
      "expr: int(math.factorial(1000))\n",
      "length: 25\n",
      "[OK] test passed\n",
      "\n",
      "[3]:\n",
      "expr: [2*x if x%2==1 else x for x in a]\n",
      "length: 33\n",
      "[OK] test passed\n",
      "\n",
      "[4]:\n",
      "expr: [i for i in a if i not in b]\n",
      "length: 28\n",
      "[OK] test passed\n",
      "\n",
      "[5]:\n",
      "expr: [[''.join(map(str,[chr(c+65),i+1])) for c in range(10)] for i in range(10)]\n",
      "length: 75\n",
      "[OK] test passed\n",
      "\n",
      "[6]:\n",
      "expr: pass\n",
      "[SKIP] task is not implemented, skipping\n",
      "\n",
      "[7]:\n",
      "expr: pass\n",
      "[SKIP] task is not implemented, skipping\n",
      "\n",
      "[8]:\n",
      "expr: pass\n",
      "[SKIP] task is not implemented, skipping\n",
      "\n",
      "[9]:\n",
      "expr: pass\n",
      "[SKIP] task is not implemented, skipping\n",
      "\n",
      "Results:\n",
      "1: ok\n",
      "2: ok\n",
      "3: ok\n",
      "4: ok\n",
      "5: ok\n",
      "6: skipped\n",
      "7: skipped\n",
      "8: skipped\n",
      "9: skipped\n",
      "\n",
      "ok: 5, failed: 0, skipped: 4\n",
      "\n",
      "You solved 5 or more tasks, good\n"
     ]
    },
    {
     "data": {
      "text/plain": [
       "True"
      ]
     },
     "execution_count": 20,
     "metadata": {},
     "output_type": "execute_result"
    }
   ],
   "source": [
    "from test_.suite import run_tests\n",
    "run_tests(\"one-liners.ipynb\")"
   ]
  },
  {
   "cell_type": "code",
   "execution_count": null,
   "metadata": {},
   "outputs": [],
   "source": []
  }
 ],
 "metadata": {
  "kernelspec": {
   "display_name": "Python 3",
   "language": "python",
   "name": "python3"
  },
  "language_info": {
   "codemirror_mode": {
    "name": "ipython",
    "version": 3
   },
   "file_extension": ".py",
   "mimetype": "text/x-python",
   "name": "python",
   "nbconvert_exporter": "python",
   "pygments_lexer": "ipython3",
   "version": "3.7.4"
  }
 },
 "nbformat": 4,
 "nbformat_minor": 4
}
